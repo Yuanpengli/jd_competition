{
 "cells": [
  {
   "cell_type": "code",
   "execution_count": 25,
   "metadata": {
    "collapsed": false
   },
   "outputs": [],
   "source": [
    "import tensorflow as tf\n",
    "from keras.models import load_model, Model, Sequential\n",
    "from keras.layers import Input, Dense, Activation, Dropout, Flatten, Conv2D, MaxPooling2D\n",
    "from keras.layers.normalization import BatchNormalization as BNOR\n",
    "from keras.regularizers import l2\n",
    "\n",
    "from Teemo.datasets.loaders.mnist_loader import MnistLoader\n",
    "from Teemo.datasets.base import Dataset"
   ]
  },
  {
   "cell_type": "code",
   "execution_count": 26,
   "metadata": {
    "collapsed": true
   },
   "outputs": [],
   "source": [
    "def vgg16(input_placeholder):\n",
    "    h = Conv2D(64, (3, 3), activation='relu', strides=1, padding='same', name='block1_conv1')(input_placeholder)\n",
    "    h = Conv2D(64, (3, 3), activation='relu', strides=1, padding='same', name='block1_conv2')(h)\n",
    "    h = MaxPooling2D( pool_size=(2,2),strides=(2,2),name='block1_pool' )(h)\n",
    "    print ('block 1')\n",
    "# block 2\n",
    "    h = Conv2D(128, (3, 3), activation='relu', strides=1, padding='same', name='block2_conv1')(h)\n",
    "    h = Conv2D(128, (3, 3), activation='relu', strides=1, padding='same', name='block2_conv2')(h)\n",
    "    h = MaxPooling2D( pool_size=(2,2),strides=(2,2),name='block2_pool')(h)\n",
    "# block 3\n",
    "    h = Conv2D(256, (3, 3), activation='relu', strides=1, padding='same', name='block3_conv1')(h)\n",
    "    h = Conv2D(256, (3, 3), activation='relu', strides=1, padding='same', name='block3_conv2')(h)\n",
    "    h = Conv2D(256, (3, 3), activation='relu', strides=1, padding='same', name='block3_conv3')(h)\n",
    "    h = MaxPooling2D( pool_size=(2,2),strides=(2,2),name='block3_pool')(h)\n",
    "# block 4\n",
    "    h = Conv2D(512, (3, 3), activation='relu', strides=1, padding='same', name='block4_conv1')(h)\n",
    "    h = Conv2D(512, (3, 3), activation='relu', strides=1, padding='same', name='block4_conv2')(h)\n",
    "    h = Conv2D(512, (3, 3), activation='relu', strides=1, padding='same', name='block4_conv3')(h)\n",
    "    h = MaxPooling2D( pool_size=(2,2),strides=(2,2),name='block4_pool' )(h)\n",
    "    print ('h', h)\n",
    "# block 5\n",
    "#     h = Conv2D(512, (3, 3), activation='relu', strides=1, padding='same', name='block5_conv1')(h)\n",
    "#     h = Conv2D(512, (3, 3), activation='relu', strides=1, padding='same', name='block5_conv2')(h)\n",
    "#     h = Conv2D(512, (3, 3), activation='relu', strides=1, padding='same', name='block5_conv3')(h)\n",
    "#     print ('block 5')\n",
    "#     print ('h', h)\n",
    "    #h = MaxPooling2D( pool_size=(2,2),strides=(2,2),name='block5_pool' )(h)\n",
    "\t#model.load_weights('~/.keras/models/vgg16_weights_tf_dim_ordering_tf_kernels_notop.h5')\n",
    "    return h"
   ]
  },
  {
   "cell_type": "code",
   "execution_count": 27,
   "metadata": {
    "collapsed": false
   },
   "outputs": [
    {
     "name": "stdout",
     "output_type": "stream",
     "text": [
      "(70000, 784)\n"
     ]
    }
   ],
   "source": [
    "dataset_dir = '/home/liyuanpeng/Documents/minist'\n",
    "loader = MnistLoader()\n",
    "loader.load_dataset(dataset_dir)\n",
    "dataset = Dataset(loader=loader)\n",
    "print (dataset.data[0].shape)"
   ]
  },
  {
   "cell_type": "code",
   "execution_count": 28,
   "metadata": {
    "collapsed": false
   },
   "outputs": [
    {
     "name": "stdout",
     "output_type": "stream",
     "text": [
      "block 1\n",
      "('h', <tf.Tensor 'block4_pool_5/MaxPool:0' shape=(?, 1, 1, 512) dtype=float32>)\n",
      "Tensor(\"Reshape:0\", shape=(?, 512), dtype=float32)\n"
     ]
    }
   ],
   "source": [
    "# input_x = dataset.data[0]\n",
    "# input_x = input_x.reshape([-1, 28, 28, 1])\n",
    "# x = Input(shape=(28, 28))\n",
    "# vgg_model = vgg16_model(input_x.shape[1:])\n",
    "\n",
    "def train():\n",
    "\n",
    "x = Input(shape=(28, 28, 1))\n",
    "\n",
    "output = vgg16(x)\n",
    "\n",
    "output = tf.reshape(output, [-1, 512])\n",
    "print (output)\n",
    "\n",
    "\n"
   ]
  },
  {
   "cell_type": "code",
   "execution_count": null,
   "metadata": {
    "collapsed": true
   },
   "outputs": [],
   "source": []
  },
  {
   "cell_type": "code",
   "execution_count": null,
   "metadata": {
    "collapsed": true
   },
   "outputs": [],
   "source": []
  }
 ],
 "metadata": {
  "anaconda-cloud": {},
  "kernelspec": {
   "display_name": "Python [conda root]",
   "language": "python",
   "name": "conda-root-py"
  },
  "language_info": {
   "codemirror_mode": {
    "name": "ipython",
    "version": 2
   },
   "file_extension": ".py",
   "mimetype": "text/x-python",
   "name": "python",
   "nbconvert_exporter": "python",
   "pygments_lexer": "ipython2",
   "version": "2.7.14"
  }
 },
 "nbformat": 4,
 "nbformat_minor": 1
}
